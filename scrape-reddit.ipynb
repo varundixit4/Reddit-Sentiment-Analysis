{
 "cells": [
  {
   "cell_type": "code",
   "execution_count": 1,
   "metadata": {},
   "outputs": [],
   "source": [
    "import pandas as pd\n",
    "import praw\n",
    "import os\n",
    "from datetime import datetime\n",
    "from dotenv import load_dotenv"
   ]
  },
  {
   "cell_type": "code",
   "execution_count": 2,
   "metadata": {},
   "outputs": [],
   "source": [
    "load_dotenv()\n",
    "\n",
    "reddit = praw.Reddit(\n",
    "    client_id=os.getenv('CLIENT_ID'),\n",
    "    client_secret=os.getenv('CLIENT_SECRET'),\n",
    "    user_agent=os.getenv('USER_AGENT')\n",
    ")"
   ]
  },
  {
   "cell_type": "code",
   "execution_count": 3,
   "metadata": {},
   "outputs": [],
   "source": [
    "subreddits = ['harvard', 'mit', 'stanford', 'ucla', 'berkeley', 'uofm', 'gatech', 'nyu']\n",
    "num_post = 50\n",
    "comments_per_post = 5"
   ]
  },
  {
   "cell_type": "code",
   "execution_count": 4,
   "metadata": {},
   "outputs": [],
   "source": [
    "data = []"
   ]
  },
  {
   "cell_type": "code",
   "execution_count": 35,
   "metadata": {},
   "outputs": [],
   "source": [
    "for subreddit in subreddits:\n",
    "    subreddit_instance = reddit.subreddit(subreddit)\n",
    "    for submission in subreddit_instance.hot(limit=num_post):\n",
    "        submission.comments.replace_more(limit=0)\n",
    "        comments = [comment.body for comment in submission.comments.list()[:comments_per_post]]\n",
    "\n",
    "        post_data = {\n",
    "            'id': submission.id,\n",
    "            'university': subreddit,\n",
    "            'title': submission.title,\n",
    "            'content': submission.selftext,\n",
    "            'comments': comments,\n",
    "            'author': submission.author.name if submission.author else '[deleted]',\n",
    "            'created_utc': submission.created_utc,\n",
    "            'score': submission.score\n",
    "        }\n",
    "        data.append(post_data)\n",
    "\n",
    "df = pd.DataFrame(data)"
   ]
  },
  {
   "cell_type": "code",
   "execution_count": 36,
   "metadata": {},
   "outputs": [
    {
     "name": "stdout",
     "output_type": "stream",
     "text": [
      "{'id': '1fylsog', 'university': 'harvard', 'title': 'Register to vote by October 26th, and vote in the 2024 elections!', 'content': \"On November 5th, Massachusetts will vote not just for President, but for Congress, and for state and local offices.  Register and vote so you'll have a say in what kind of country America will be!\\n\\n##Register to vote\\n\\nIn Massachusetts, you must register by October 26th to vote. You can register here: https://www.sec.state.ma.us/ele/eleifv/howreg.htm\\n\\n##Voting in person\\n\\nMassachusetts offers early in-person voting from October 19th - November 1st.  [Find your early voting location here](https://www.sec.state.ma.us/divisions/elections/voting-information/vote-early.htm).\\n\\nIf you prefer, you can vote [at your polling place](https://www.sec.state.ma.us/WhereDoIVoteMA/WhereDoIVote) on Election Day, November 5th. \\n\\nIf you are a first-time voter, or on the inactive voter list, you will need to show [a valid form of identification](https://www.sec.state.ma.us/divisions/elections/voting-information/identification-requirements.htm).\\n\\n##Voting by mail\\n\\nAny voter in Massachusetts may choose to vote by mail.  [Apply for a mail-in ballot here](https://www.sec.state.ma.us/divisions/elections/voting-information/vote-by-mail.htm).\\n\\nBallots must be postmarked by November 5th and received by November 8th, so mail your ballot back promptly.  You can also return your ballot in person to an early voting location, a dropbox, or your local elections office.  See [this website](https://www.sec.state.ma.us/divisions/elections/voter-resources/find-my-local-election-office.htm) for a list of elections offices and dropboxes.  If you return your mail ballot in person, you must do so by November 5th.\\n\\nIf you mail your ballot, [you can track it here](https://www.sec.state.ma.us/wheredoivotema/track/trackmyballot.aspx).\\n\\nPlease let me know if you have any questions!\", 'comments': [], 'author': 'EllieDai', 'created_utc': 1728343481.0, 'score': 5}\n"
     ]
    }
   ],
   "source": [
    "print(data.head())"
   ]
  }
 ],
 "metadata": {
  "kernelspec": {
   "display_name": "Python 3",
   "language": "python",
   "name": "python3"
  },
  "language_info": {
   "codemirror_mode": {
    "name": "ipython",
    "version": 3
   },
   "file_extension": ".py",
   "mimetype": "text/x-python",
   "name": "python",
   "nbconvert_exporter": "python",
   "pygments_lexer": "ipython3",
   "version": "3.9.6"
  }
 },
 "nbformat": 4,
 "nbformat_minor": 2
}
