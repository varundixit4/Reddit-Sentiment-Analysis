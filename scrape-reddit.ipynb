{
 "cells": [
  {
   "cell_type": "code",
   "execution_count": 1,
   "metadata": {},
   "outputs": [],
   "source": [
    "import pandas as pd\n",
    "import praw\n",
    "import os\n",
    "from datetime import datetime\n",
    "from dotenv import load_dotenv"
   ]
  },
  {
   "cell_type": "code",
   "execution_count": 2,
   "metadata": {},
   "outputs": [],
   "source": [
    "load_dotenv()\n",
    "\n",
    "reddit = praw.Reddit(\n",
    "    client_id=os.getenv('CLIENT_ID'),\n",
    "    client_secret=os.getenv('CLIENT_SECRET'),\n",
    "    user_agent=os.getenv('USER_AGENT')\n",
    ")"
   ]
  },
  {
   "cell_type": "code",
   "execution_count": 3,
   "metadata": {},
   "outputs": [],
   "source": [
    "subreddits = ['harvard', 'mit', 'stanford', 'ucla', 'berkeley', 'uofm', 'gatech', 'nyu']\n",
    "num_post = 50\n",
    "comments_per_post = 5"
   ]
  },
  {
   "cell_type": "code",
   "execution_count": 4,
   "metadata": {},
   "outputs": [],
   "source": [
    "data = []"
   ]
  },
  {
   "cell_type": "code",
   "execution_count": 5,
   "metadata": {},
   "outputs": [],
   "source": [
    "for subreddit in subreddits:\n",
    "    subreddit_instance = reddit.subreddit(subreddit)\n",
    "    for submission in subreddit_instance.hot(limit=num_post):\n",
    "        submission.comments.replace_more(limit=0)\n",
    "        comments = [comment.body for comment in submission.comments.list()[:comments_per_post]]\n",
    "\n",
    "        post_data = {\n",
    "            'id': submission.id,\n",
    "            'university': subreddit,\n",
    "            'title': submission.title,\n",
    "            'content': submission.selftext,\n",
    "            'comments': comments,\n",
    "            'author': submission.author.name if submission.author else '[deleted]',\n",
    "            'created_utc': submission.created_utc,\n",
    "            'score': submission.score\n",
    "        }\n",
    "        data.append(post_data)\n",
    "\n",
    "df = pd.DataFrame(data)"
   ]
  },
  {
   "cell_type": "code",
   "execution_count": 7,
   "metadata": {},
   "outputs": [
    {
     "name": "stdout",
     "output_type": "stream",
     "text": [
      "        id university                                              title  \\\n",
      "0  1fylsog    harvard  Register to vote by October 26th, and vote in ...   \n",
      "1  1fyzjck    harvard                          Harvard mentioned in xkcd   \n",
      "2  1fzl93q    harvard                         Historical Tour of Harvard   \n",
      "3  1fzbmh1    harvard             Scenic Coastal/Lake Areas Near Harvard   \n",
      "4  1fz275z    harvard  A Conversation with Kongjian Yu at the Museum ...   \n",
      "\n",
      "                                             content  \\\n",
      "0  On November 5th, Massachusetts will vote not j...   \n",
      "1                                                      \n",
      "2  My family is coming to visit next month and I ...   \n",
      "3  My 25th reunion is coming up and I want to gat...   \n",
      "4  On Wednesday, October 23 join us for a convers...   \n",
      "\n",
      "                                            comments              author  \\\n",
      "0                                                 []            EllieDai   \n",
      "1  [I feel like the MIT comma would be a semicolo...     TheJenkinsComic   \n",
      "2  [It was up and running as of a week or so ago....      Spare_Pay_2944   \n",
      "3  [Take the ferry from Boston harbor to Province...     wheelwatcher222   \n",
      "4                                                 []  TheMuseumOfScience   \n",
      "\n",
      "    created_utc  score  \n",
      "0  1.728343e+09      5  \n",
      "1  1.728393e+09    129  \n",
      "2  1.728456e+09      1  \n",
      "3  1.728424e+09      5  \n",
      "4  1.728400e+09      3  \n"
     ]
    }
   ],
   "source": [
    "print(df.head())"
   ]
  },
  {
   "cell_type": "code",
   "execution_count": 9,
   "metadata": {},
   "outputs": [],
   "source": [
    "df.to_csv('reddit-university-data.csv', index=False)"
   ]
  }
 ],
 "metadata": {
  "kernelspec": {
   "display_name": "Python 3",
   "language": "python",
   "name": "python3"
  },
  "language_info": {
   "codemirror_mode": {
    "name": "ipython",
    "version": 3
   },
   "file_extension": ".py",
   "mimetype": "text/x-python",
   "name": "python",
   "nbconvert_exporter": "python",
   "pygments_lexer": "ipython3",
   "version": "3.9.6"
  }
 },
 "nbformat": 4,
 "nbformat_minor": 2
}
