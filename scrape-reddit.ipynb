{
 "cells": [
  {
   "cell_type": "code",
   "execution_count": 18,
   "metadata": {},
   "outputs": [],
   "source": [
    "import pandas as pd\n",
    "import praw\n",
    "import os\n",
    "from datetime import datetime\n",
    "from dotenv import load_dotenv"
   ]
  },
  {
   "cell_type": "code",
   "execution_count": 19,
   "metadata": {},
   "outputs": [],
   "source": [
    "load_dotenv()\n",
    "\n",
    "reddit = praw.Reddit(\n",
    "    client_id=os.getenv('CLIENT_ID'),\n",
    "    client_secret=os.getenv('CLIENT_SECRET'),\n",
    "    user_agent=os.getenv('USER_AGENT')\n",
    ")"
   ]
  },
  {
   "cell_type": "code",
   "execution_count": 20,
   "metadata": {},
   "outputs": [],
   "source": [
    "subreddits = ['harvard', 'mit', 'stanford', 'ucla', 'berkeley', 'uofm', 'gatech', 'nyu']\n",
    "num_post = 100\n",
    "comments_per_post = 5"
   ]
  },
  {
   "cell_type": "code",
   "execution_count": 21,
   "metadata": {},
   "outputs": [],
   "source": [
    "data = []"
   ]
  },
  {
   "cell_type": "code",
   "execution_count": 22,
   "metadata": {},
   "outputs": [],
   "source": [
    "for subreddit in subreddits:\n",
    "    subreddit_instance = reddit.subreddit(subreddit)\n",
    "    for submission in subreddit_instance.hot(limit=num_post):\n",
    "        submission.comments.replace_more(limit=0)\n",
    "        comments = [comment.body for comment in submission.comments.list()[:comments_per_post]]\n",
    "\n",
    "        post_data = {\n",
    "            'id': submission.id,\n",
    "            'university': subreddit,\n",
    "            'title': submission.title,\n",
    "            'content': submission.selftext,\n",
    "            'comments': comments,\n",
    "            'author': submission.author.name if submission.author else '[deleted]',\n",
    "            'created_utc': datetime.fromtimestamp(submission.created_utc),\n",
    "            'score': submission.score\n",
    "        }\n",
    "        data.append(post_data)\n",
    "\n",
    "df = pd.DataFrame(data)"
   ]
  },
  {
   "cell_type": "code",
   "execution_count": 23,
   "metadata": {},
   "outputs": [
    {
     "name": "stdout",
     "output_type": "stream",
     "text": [
      "        id university                                              title  \\\n",
      "0  1fylsog    harvard  Register to vote by October 26th, and vote in ...   \n",
      "1  1g0gvaa    harvard  Has the Harvard Crimson ever retracted/apologi...   \n",
      "2  1g0dbjv    harvard              Harvard Alumnus Wins Chemistry Nobel    \n",
      "3  1g0k72t    harvard  Americans Victor Ambros of UMass Chan and Gary...   \n",
      "4  1g09rjw    harvard                                 History of Science   \n",
      "\n",
      "                                             content  \\\n",
      "0  On November 5th, Massachusetts will vote not j...   \n",
      "1  This is a very specific question, and it obvio...   \n",
      "2                                                      \n",
      "3                                                      \n",
      "4  History of science majors/those of you familia...   \n",
      "\n",
      "                                            comments             author  \\\n",
      "0                                                 []           EllieDai   \n",
      "1  [College kids hold misguided views. More news ...       Ouroboros963   \n",
      "2  [For contributors to AI?, I don't think he wor...      ThrillSurgeon   \n",
      "3                                                 []  mlockerottinghaus   \n",
      "4  [I'm a graduate student so can't answer your s...        Pretzel2192   \n",
      "\n",
      "          created_utc  score  \n",
      "0 2024-10-08 04:54:41      6  \n",
      "1 2024-10-10 17:15:02     22  \n",
      "2 2024-10-10 12:54:50     10  \n",
      "3 2024-10-10 20:02:25      1  \n",
      "4 2024-10-10 08:52:19      5  \n"
     ]
    }
   ],
   "source": [
    "print(df.head())"
   ]
  },
  {
   "cell_type": "code",
   "execution_count": 24,
   "metadata": {},
   "outputs": [],
   "source": [
    "df.to_csv('reddit-university-data.csv', index=False)"
   ]
  }
 ],
 "metadata": {
  "kernelspec": {
   "display_name": "Python 3",
   "language": "python",
   "name": "python3"
  },
  "language_info": {
   "codemirror_mode": {
    "name": "ipython",
    "version": 3
   },
   "file_extension": ".py",
   "mimetype": "text/x-python",
   "name": "python",
   "nbconvert_exporter": "python",
   "pygments_lexer": "ipython3",
   "version": "3.9.6"
  }
 },
 "nbformat": 4,
 "nbformat_minor": 2
}
