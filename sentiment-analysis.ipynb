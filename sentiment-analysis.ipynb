{
 "cells": [
  {
   "cell_type": "code",
   "execution_count": 3,
   "metadata": {},
   "outputs": [],
   "source": [
    "import pandas as pd"
   ]
  },
  {
   "cell_type": "code",
   "execution_count": 4,
   "metadata": {},
   "outputs": [],
   "source": [
    "df = pd.read_csv('reddit-university-data.csv')"
   ]
  },
  {
   "cell_type": "code",
   "execution_count": 5,
   "metadata": {},
   "outputs": [
    {
     "data": {
      "text/html": [
       "<div>\n",
       "<style scoped>\n",
       "    .dataframe tbody tr th:only-of-type {\n",
       "        vertical-align: middle;\n",
       "    }\n",
       "\n",
       "    .dataframe tbody tr th {\n",
       "        vertical-align: top;\n",
       "    }\n",
       "\n",
       "    .dataframe thead th {\n",
       "        text-align: right;\n",
       "    }\n",
       "</style>\n",
       "<table border=\"1\" class=\"dataframe\">\n",
       "  <thead>\n",
       "    <tr style=\"text-align: right;\">\n",
       "      <th></th>\n",
       "      <th>id</th>\n",
       "      <th>university</th>\n",
       "      <th>title</th>\n",
       "      <th>content</th>\n",
       "      <th>comments</th>\n",
       "      <th>author</th>\n",
       "      <th>created_utc</th>\n",
       "      <th>score</th>\n",
       "    </tr>\n",
       "  </thead>\n",
       "  <tbody>\n",
       "    <tr>\n",
       "      <th>0</th>\n",
       "      <td>1fylsog</td>\n",
       "      <td>harvard</td>\n",
       "      <td>Register to vote by October 26th, and vote in ...</td>\n",
       "      <td>On November 5th, Massachusetts will vote not j...</td>\n",
       "      <td>[]</td>\n",
       "      <td>EllieDai</td>\n",
       "      <td>2024-10-08 04:54:41</td>\n",
       "      <td>6</td>\n",
       "    </tr>\n",
       "    <tr>\n",
       "      <th>1</th>\n",
       "      <td>1g0gvaa</td>\n",
       "      <td>harvard</td>\n",
       "      <td>Has the Harvard Crimson ever retracted/apologi...</td>\n",
       "      <td>This is a very specific question, and it obvio...</td>\n",
       "      <td>['College kids hold misguided views. More news...</td>\n",
       "      <td>Ouroboros963</td>\n",
       "      <td>2024-10-10 17:15:02</td>\n",
       "      <td>22</td>\n",
       "    </tr>\n",
       "    <tr>\n",
       "      <th>2</th>\n",
       "      <td>1g0dbjv</td>\n",
       "      <td>harvard</td>\n",
       "      <td>Harvard Alumnus Wins Chemistry Nobel</td>\n",
       "      <td>NaN</td>\n",
       "      <td>['For contributors to AI?', \"I don't think he ...</td>\n",
       "      <td>ThrillSurgeon</td>\n",
       "      <td>2024-10-10 12:54:50</td>\n",
       "      <td>10</td>\n",
       "    </tr>\n",
       "    <tr>\n",
       "      <th>3</th>\n",
       "      <td>1g0k72t</td>\n",
       "      <td>harvard</td>\n",
       "      <td>Americans Victor Ambros of UMass Chan and Gary...</td>\n",
       "      <td>NaN</td>\n",
       "      <td>[]</td>\n",
       "      <td>mlockerottinghaus</td>\n",
       "      <td>2024-10-10 20:02:25</td>\n",
       "      <td>1</td>\n",
       "    </tr>\n",
       "    <tr>\n",
       "      <th>4</th>\n",
       "      <td>1g09rjw</td>\n",
       "      <td>harvard</td>\n",
       "      <td>History of Science</td>\n",
       "      <td>History of science majors/those of you familia...</td>\n",
       "      <td>[\"I'm a graduate student so can't answer your ...</td>\n",
       "      <td>Pretzel2192</td>\n",
       "      <td>2024-10-10 08:52:19</td>\n",
       "      <td>5</td>\n",
       "    </tr>\n",
       "  </tbody>\n",
       "</table>\n",
       "</div>"
      ],
      "text/plain": [
       "        id university                                              title  \\\n",
       "0  1fylsog    harvard  Register to vote by October 26th, and vote in ...   \n",
       "1  1g0gvaa    harvard  Has the Harvard Crimson ever retracted/apologi...   \n",
       "2  1g0dbjv    harvard              Harvard Alumnus Wins Chemistry Nobel    \n",
       "3  1g0k72t    harvard  Americans Victor Ambros of UMass Chan and Gary...   \n",
       "4  1g09rjw    harvard                                 History of Science   \n",
       "\n",
       "                                             content  \\\n",
       "0  On November 5th, Massachusetts will vote not j...   \n",
       "1  This is a very specific question, and it obvio...   \n",
       "2                                                NaN   \n",
       "3                                                NaN   \n",
       "4  History of science majors/those of you familia...   \n",
       "\n",
       "                                            comments             author  \\\n",
       "0                                                 []           EllieDai   \n",
       "1  ['College kids hold misguided views. More news...       Ouroboros963   \n",
       "2  ['For contributors to AI?', \"I don't think he ...      ThrillSurgeon   \n",
       "3                                                 []  mlockerottinghaus   \n",
       "4  [\"I'm a graduate student so can't answer your ...        Pretzel2192   \n",
       "\n",
       "           created_utc  score  \n",
       "0  2024-10-08 04:54:41      6  \n",
       "1  2024-10-10 17:15:02     22  \n",
       "2  2024-10-10 12:54:50     10  \n",
       "3  2024-10-10 20:02:25      1  \n",
       "4  2024-10-10 08:52:19      5  "
      ]
     },
     "execution_count": 5,
     "metadata": {},
     "output_type": "execute_result"
    }
   ],
   "source": [
    "df.head()"
   ]
  },
  {
   "cell_type": "code",
   "execution_count": 6,
   "metadata": {},
   "outputs": [
    {
     "name": "stdout",
     "output_type": "stream",
     "text": [
      "<class 'pandas.core.frame.DataFrame'>\n",
      "RangeIndex: 800 entries, 0 to 799\n",
      "Data columns (total 8 columns):\n",
      " #   Column       Non-Null Count  Dtype \n",
      "---  ------       --------------  ----- \n",
      " 0   id           800 non-null    object\n",
      " 1   university   800 non-null    object\n",
      " 2   title        800 non-null    object\n",
      " 3   content      726 non-null    object\n",
      " 4   comments     800 non-null    object\n",
      " 5   author       800 non-null    object\n",
      " 6   created_utc  800 non-null    object\n",
      " 7   score        800 non-null    int64 \n",
      "dtypes: int64(1), object(7)\n",
      "memory usage: 50.1+ KB\n"
     ]
    }
   ],
   "source": [
    "df.info()"
   ]
  },
  {
   "cell_type": "code",
   "execution_count": 7,
   "metadata": {},
   "outputs": [],
   "source": [
    "df = df.dropna(subset=['content'])"
   ]
  },
  {
   "cell_type": "code",
   "execution_count": 8,
   "metadata": {},
   "outputs": [],
   "source": [
    "df = df[df['comments'].apply(lambda x: x != '[]')]"
   ]
  },
  {
   "cell_type": "code",
   "execution_count": 9,
   "metadata": {},
   "outputs": [
    {
     "name": "stdout",
     "output_type": "stream",
     "text": [
      "<class 'pandas.core.frame.DataFrame'>\n",
      "Index: 608 entries, 1 to 798\n",
      "Data columns (total 8 columns):\n",
      " #   Column       Non-Null Count  Dtype \n",
      "---  ------       --------------  ----- \n",
      " 0   id           608 non-null    object\n",
      " 1   university   608 non-null    object\n",
      " 2   title        608 non-null    object\n",
      " 3   content      608 non-null    object\n",
      " 4   comments     608 non-null    object\n",
      " 5   author       608 non-null    object\n",
      " 6   created_utc  608 non-null    object\n",
      " 7   score        608 non-null    int64 \n",
      "dtypes: int64(1), object(7)\n",
      "memory usage: 42.8+ KB\n"
     ]
    }
   ],
   "source": [
    "df.info()"
   ]
  },
  {
   "cell_type": "code",
   "execution_count": 10,
   "metadata": {},
   "outputs": [
    {
     "data": {
      "text/html": [
       "<div>\n",
       "<style scoped>\n",
       "    .dataframe tbody tr th:only-of-type {\n",
       "        vertical-align: middle;\n",
       "    }\n",
       "\n",
       "    .dataframe tbody tr th {\n",
       "        vertical-align: top;\n",
       "    }\n",
       "\n",
       "    .dataframe thead th {\n",
       "        text-align: right;\n",
       "    }\n",
       "</style>\n",
       "<table border=\"1\" class=\"dataframe\">\n",
       "  <thead>\n",
       "    <tr style=\"text-align: right;\">\n",
       "      <th></th>\n",
       "      <th>id</th>\n",
       "      <th>university</th>\n",
       "      <th>title</th>\n",
       "      <th>content</th>\n",
       "      <th>comments</th>\n",
       "      <th>author</th>\n",
       "      <th>created_utc</th>\n",
       "      <th>score</th>\n",
       "    </tr>\n",
       "  </thead>\n",
       "  <tbody>\n",
       "    <tr>\n",
       "      <th>1</th>\n",
       "      <td>1g0gvaa</td>\n",
       "      <td>harvard</td>\n",
       "      <td>Has the Harvard Crimson ever retracted/apologi...</td>\n",
       "      <td>This is a very specific question, and it obvio...</td>\n",
       "      <td>['College kids hold misguided views. More news...</td>\n",
       "      <td>Ouroboros963</td>\n",
       "      <td>2024-10-10 17:15:02</td>\n",
       "      <td>22</td>\n",
       "    </tr>\n",
       "    <tr>\n",
       "      <th>4</th>\n",
       "      <td>1g09rjw</td>\n",
       "      <td>harvard</td>\n",
       "      <td>History of Science</td>\n",
       "      <td>History of science majors/those of you familia...</td>\n",
       "      <td>[\"I'm a graduate student so can't answer your ...</td>\n",
       "      <td>Pretzel2192</td>\n",
       "      <td>2024-10-10 08:52:19</td>\n",
       "      <td>5</td>\n",
       "    </tr>\n",
       "    <tr>\n",
       "      <th>7</th>\n",
       "      <td>1g07l8g</td>\n",
       "      <td>harvard</td>\n",
       "      <td>Is this a Harvard startup?</td>\n",
       "      <td>I’ve been seeing a website called Shout! being...</td>\n",
       "      <td>['It seems to be a B.U. students startup:\\n\\n[...</td>\n",
       "      <td>Bitter-Air-8473</td>\n",
       "      <td>2024-10-10 06:53:32</td>\n",
       "      <td>0</td>\n",
       "    </tr>\n",
       "    <tr>\n",
       "      <th>8</th>\n",
       "      <td>1fzbmh1</td>\n",
       "      <td>harvard</td>\n",
       "      <td>Scenic Coastal/Lake Areas Near Harvard</td>\n",
       "      <td>My 25th reunion is coming up and I want to gat...</td>\n",
       "      <td>['Take the ferry from Boston harbor to Provinc...</td>\n",
       "      <td>wheelwatcher222</td>\n",
       "      <td>2024-10-09 03:19:35</td>\n",
       "      <td>7</td>\n",
       "    </tr>\n",
       "    <tr>\n",
       "      <th>9</th>\n",
       "      <td>1fzl93q</td>\n",
       "      <td>harvard</td>\n",
       "      <td>Historical Tour of Harvard</td>\n",
       "      <td>My family is coming to visit next month and I ...</td>\n",
       "      <td>['It was up and running as of a week or so ago...</td>\n",
       "      <td>Spare_Pay_2944</td>\n",
       "      <td>2024-10-09 12:09:23</td>\n",
       "      <td>1</td>\n",
       "    </tr>\n",
       "  </tbody>\n",
       "</table>\n",
       "</div>"
      ],
      "text/plain": [
       "        id university                                              title  \\\n",
       "1  1g0gvaa    harvard  Has the Harvard Crimson ever retracted/apologi...   \n",
       "4  1g09rjw    harvard                                 History of Science   \n",
       "7  1g07l8g    harvard                        Is this a Harvard startup?    \n",
       "8  1fzbmh1    harvard             Scenic Coastal/Lake Areas Near Harvard   \n",
       "9  1fzl93q    harvard                         Historical Tour of Harvard   \n",
       "\n",
       "                                             content  \\\n",
       "1  This is a very specific question, and it obvio...   \n",
       "4  History of science majors/those of you familia...   \n",
       "7  I’ve been seeing a website called Shout! being...   \n",
       "8  My 25th reunion is coming up and I want to gat...   \n",
       "9  My family is coming to visit next month and I ...   \n",
       "\n",
       "                                            comments           author  \\\n",
       "1  ['College kids hold misguided views. More news...     Ouroboros963   \n",
       "4  [\"I'm a graduate student so can't answer your ...      Pretzel2192   \n",
       "7  ['It seems to be a B.U. students startup:\\n\\n[...  Bitter-Air-8473   \n",
       "8  ['Take the ferry from Boston harbor to Provinc...  wheelwatcher222   \n",
       "9  ['It was up and running as of a week or so ago...   Spare_Pay_2944   \n",
       "\n",
       "           created_utc  score  \n",
       "1  2024-10-10 17:15:02     22  \n",
       "4  2024-10-10 08:52:19      5  \n",
       "7  2024-10-10 06:53:32      0  \n",
       "8  2024-10-09 03:19:35      7  \n",
       "9  2024-10-09 12:09:23      1  "
      ]
     },
     "execution_count": 10,
     "metadata": {},
     "output_type": "execute_result"
    }
   ],
   "source": [
    "df.head()"
   ]
  },
  {
   "cell_type": "code",
   "execution_count": 39,
   "metadata": {},
   "outputs": [
    {
     "data": {
      "text/plain": [
       "university\n",
       "mit         86\n",
       "harvard     80\n",
       "nyu         78\n",
       "stanford    76\n",
       "uofm        75\n",
       "berkeley    72\n",
       "gatech      72\n",
       "ucla        69\n",
       "Name: count, dtype: int64"
      ]
     },
     "execution_count": 39,
     "metadata": {},
     "output_type": "execute_result"
    }
   ],
   "source": [
    "df['university'].value_counts()"
   ]
  },
  {
   "cell_type": "code",
   "execution_count": 115,
   "metadata": {},
   "outputs": [],
   "source": [
    "df['comments'] = df['comments'].apply(lambda x: eval(x) if isinstance(x, str) else x)"
   ]
  },
  {
   "cell_type": "code",
   "execution_count": 38,
   "metadata": {},
   "outputs": [],
   "source": [
    "universities = list(df['university'].unique())"
   ]
  },
  {
   "cell_type": "code",
   "execution_count": 66,
   "metadata": {},
   "outputs": [],
   "source": [
    "titles_dict = {}\n",
    "for i, university in enumerate(universities):\n",
    "    uni_titles = df[df['university'] == f'{university}']\n",
    "    titles_dict[university] = list(uni_titles['title'].values)"
   ]
  },
  {
   "cell_type": "code",
   "execution_count": 72,
   "metadata": {},
   "outputs": [],
   "source": [
    "content_dict = {}\n",
    "for i, university in enumerate(universities):\n",
    "    uni_titles = df[df['university'] == f'{university}']\n",
    "    content_dict[university] = list(uni_titles['content'].values)"
   ]
  },
  {
   "cell_type": "code",
   "execution_count": 116,
   "metadata": {},
   "outputs": [],
   "source": [
    "comments_dict = {}\n",
    "for i, university in enumerate(universities):\n",
    "    uni_comments = df[df['university'] == f'{university}']\n",
    "    comments_dict[university] = list(uni_comments['comments'].values)"
   ]
  },
  {
   "cell_type": "markdown",
   "metadata": {},
   "source": [
    "Using VADER(Valence Aware Dictionary and sEntiment Reasoner) for calculating sentiment from -1 to +1"
   ]
  },
  {
   "cell_type": "code",
   "execution_count": 11,
   "metadata": {},
   "outputs": [],
   "source": [
    "from vaderSentiment.vaderSentiment import SentimentIntensityAnalyzer\n",
    "\n",
    "analyser = SentimentIntensityAnalyzer()\n",
    "\n",
    "def get_vader_sentiment(text):\n",
    "    sentiment = analyser.polarity_scores(text)\n",
    "    return sentiment['compound'] #returns a score between -1 to +1"
   ]
  },
  {
   "cell_type": "code",
   "execution_count": 70,
   "metadata": {},
   "outputs": [],
   "source": [
    "title_scores = {}\n",
    "for uni, titles in titles_dict.items():\n",
    "    total_score = 0\n",
    "    for title in titles:\n",
    "        total_score += get_vader_sentiment(title)\n",
    "    score = total_score / len(titles)\n",
    "    title_scores[uni] = score\n"
   ]
  },
  {
   "cell_type": "code",
   "execution_count": 71,
   "metadata": {},
   "outputs": [
    {
     "data": {
      "text/plain": [
       "{'harvard': 0.04177374999999999,\n",
       " 'mit': 0.07953023255813954,\n",
       " 'stanford': 0.04635394736842105,\n",
       " 'ucla': 0.06600724637681162,\n",
       " 'berkeley': 0.055725,\n",
       " 'uofm': 0.012305333333333337,\n",
       " 'gatech': 0.028202777777777775,\n",
       " 'nyu': 0.08945641025641027}"
      ]
     },
     "execution_count": 71,
     "metadata": {},
     "output_type": "execute_result"
    }
   ],
   "source": [
    "title_scores"
   ]
  },
  {
   "cell_type": "code",
   "execution_count": 119,
   "metadata": {},
   "outputs": [],
   "source": [
    "content_scores = {}\n",
    "for uni, contents in content_dict.items():\n",
    "    total_score = 0\n",
    "    for content in contents:\n",
    "        total_score += get_vader_sentiment(content)\n",
    "    score = total_score / len(contents)\n",
    "    content_scores[uni] = score"
   ]
  },
  {
   "cell_type": "code",
   "execution_count": 120,
   "metadata": {},
   "outputs": [
    {
     "data": {
      "text/plain": [
       "{'harvard': 0.37349874999999993,\n",
       " 'mit': 0.41421279069767447,\n",
       " 'stanford': 0.325263157894737,\n",
       " 'ucla': 0.13988115942028984,\n",
       " 'berkeley': 0.23937222222222213,\n",
       " 'uofm': 0.17559199999999994,\n",
       " 'gatech': 0.2374124999999999,\n",
       " 'nyu': 0.3155910256410256}"
      ]
     },
     "execution_count": 120,
     "metadata": {},
     "output_type": "execute_result"
    }
   ],
   "source": [
    "content_scores"
   ]
  },
  {
   "cell_type": "code",
   "execution_count": 122,
   "metadata": {},
   "outputs": [],
   "source": [
    "comments_scores = {}\n",
    "for uni, comments in comments_dict.items():\n",
    "    total_score = 0\n",
    "    for comment_list in comments:\n",
    "        post_score = 0\n",
    "        for comment in comment_list:\n",
    "            post_score += get_vader_sentiment(comment)\n",
    "        post_score = post_score / len(comment_list)\n",
    "        total_score += post_score\n",
    "    score = total_score / len(comments)\n",
    "    comments_scores[uni] = score\n"
   ]
  },
  {
   "cell_type": "code",
   "execution_count": 123,
   "metadata": {},
   "outputs": [
    {
     "data": {
      "text/plain": [
       "{'harvard': 0.2166858333333334,\n",
       " 'mit': 0.3152023837209303,\n",
       " 'stanford': 0.24181304824561403,\n",
       " 'ucla': 0.17487961352657005,\n",
       " 'berkeley': 0.21175458333333333,\n",
       " 'uofm': 0.22418240000000003,\n",
       " 'gatech': 0.27184400462962965,\n",
       " 'nyu': 0.2515369871794872}"
      ]
     },
     "execution_count": 123,
     "metadata": {},
     "output_type": "execute_result"
    }
   ],
   "source": [
    "comments_scores"
   ]
  },
  {
   "cell_type": "code",
   "execution_count": 128,
   "metadata": {},
   "outputs": [],
   "source": [
    "combined_dict = {key: title_scores[key] + content_scores[key] + comments_scores[key] for key in title_scores}"
   ]
  },
  {
   "cell_type": "code",
   "execution_count": 129,
   "metadata": {},
   "outputs": [
    {
     "data": {
      "text/plain": [
       "{'harvard': 0.6319583333333334,\n",
       " 'mit': 0.8089454069767443,\n",
       " 'stanford': 0.6134301535087721,\n",
       " 'ucla': 0.3807680193236715,\n",
       " 'berkeley': 0.5068518055555554,\n",
       " 'uofm': 0.4120797333333333,\n",
       " 'gatech': 0.5374592824074074,\n",
       " 'nyu': 0.6565844230769231}"
      ]
     },
     "execution_count": 129,
     "metadata": {},
     "output_type": "execute_result"
    }
   ],
   "source": [
    "combined_dict"
   ]
  },
  {
   "cell_type": "code",
   "execution_count": 127,
   "metadata": {},
   "outputs": [
    {
     "data": {
      "text/plain": [
       "list"
      ]
     },
     "execution_count": 127,
     "metadata": {},
     "output_type": "execute_result"
    }
   ],
   "source": [
    "type(comments_dict['harvard'])"
   ]
  },
  {
   "cell_type": "code",
   "execution_count": 136,
   "metadata": {},
   "outputs": [
    {
     "data": {
      "image/png": "[encoded data removed]",
      "text/plain": [
       "<Figure size 640x480 with 1 Axes>"
      ]
     },
     "metadata": {},
     "output_type": "display_data"
    }
   ],
   "source": [
    "import matplotlib.pyplot as plt\n",
    "\n",
    "sorted_dict = dict(sorted(combined_dict.items(), key=lambda item: item[1], reverse=True))\n",
    "universities = list(sorted_dict.keys())\n",
    "scores = list(sorted_dict.values())\n",
    "\n",
    "plt.bar(universities, scores)\n",
    "plt.xlabel('University')\n",
    "plt.ylabel('Sentiment Score')\n",
    "plt.show()"
   ]
  },
  {
   "cell_type": "code",
   "execution_count": null,
   "metadata": {},
   "outputs": [],
   "source": []
  }
 ],
 "metadata": {
  "kernelspec": {
   "display_name": "Python 3",
   "language": "python",
   "name": "python3"
  },
  "language_info": {
   "codemirror_mode": {
    "name": "ipython",
    "version": 3
   },
   "file_extension": ".py",
   "mimetype": "text/x-python",
   "name": "python",
   "nbconvert_exporter": "python",
   "pygments_lexer": "ipython3",
   "version": "3.9.6"
  }
 },
 "nbformat": 4,
 "nbformat_minor": 2
}
